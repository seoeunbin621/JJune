{
 "cells": [
  {
   "cell_type": "markdown",
   "id": "14d0430a",
   "metadata": {},
   "source": [
    "# 홍익대 경영학과 C331296 서은빈"
   ]
  },
  {
   "cell_type": "markdown",
   "id": "8b4d7d51",
   "metadata": {},
   "source": [
    "# 컴프리헨션\n",
    "- 패턴이 있는 리스트, 딕셔너리, 세트를 간단하게 작성할 수 있는 파이썬만의 고유한 문법\n",
    "- 정식 for문이나 if문을 사용하지 않고 반복적인 데이터 패턴을 생성할 수 있음"
   ]
  },
  {
   "cell_type": "markdown",
   "id": "f8eafc95",
   "metadata": {},
   "source": [
    "리스트 컴프리헨션\n",
    "- 컴프리헨션을 이용하여 리스트를 생성하는 방법"
   ]
  },
  {
   "cell_type": "markdown",
   "id": "80976ed6",
   "metadata": {},
   "source": [
    "리스트 컴프리헨션을 사용한 리스트 생성\n",
    "- [표현식 for 항목 in 반복가능객체]"
   ]
  },
  {
   "cell_type": "code",
   "execution_count": 70,
   "id": "c99148e3",
   "metadata": {},
   "outputs": [
    {
     "name": "stdout",
     "output_type": "stream",
     "text": [
      "nums_comp = [11, 12, 13, 14, 15]\n"
     ]
    }
   ],
   "source": [
    "nums_comp = [num+10 for num in range(1, 6)]\n",
    "# 1부터 5까지 순차적으로 num에 대입하고, num+10을 리스트에 추가\n",
    "print(f'{nums_comp = }')"
   ]
  },
  {
   "cell_type": "code",
   "execution_count": 71,
   "id": "3c6cf0db",
   "metadata": {},
   "outputs": [
    {
     "name": "stdout",
     "output_type": "stream",
     "text": [
      "nums_for = [11, 12, 13, 14, 15]\n"
     ]
    }
   ],
   "source": [
    "#for문을 사용한 리스트 생성과 비교\n",
    "\n",
    "nums_for = []\n",
    "\n",
    "# 1부터 5까지 순차적으로 num에 대입\n",
    "for num in range(1, 6):\n",
    "    nums_for.append(num+10)\n",
    "# append() 함수로 리스트에 num+10 추가\n",
    "print(f'{nums_for = }')"
   ]
  },
  {
   "cell_type": "code",
   "execution_count": 72,
   "id": "eb030502",
   "metadata": {},
   "outputs": [
    {
     "data": {
      "text/plain": [
       "15"
      ]
     },
     "execution_count": 72,
     "metadata": {},
     "output_type": "execute_result"
    }
   ],
   "source": [
    "# map 함수도 비슷한 기능을 수행할 수 있으나, 컴프리헨션은 map 함수보다 더 직관적임 \n",
    "# map 함수\n",
    "# - map(함수, 리스트) 함수는 리스트나 튜플 자료형의 각 요소를 지정된 함수로 처리해주는 함수\n",
    "\n",
    "# 입력한 숫자에 10을 더하는 함수를 정의\n",
    "def add_ten(num):\n",
    "    return num + 10\n",
    "\n",
    "add_ten(5)\n"
   ]
  },
  {
   "cell_type": "code",
   "execution_count": 73,
   "id": "40b4443f",
   "metadata": {},
   "outputs": [
    {
     "data": {
      "text/plain": [
       "<map at 0x26b03cac820>"
      ]
     },
     "execution_count": 73,
     "metadata": {},
     "output_type": "execute_result"
    }
   ],
   "source": [
    "# map 함수의 동작 확인\n",
    "# map 객체가 반환됨\n",
    "\n",
    "map(add_ten, [1, 2, 3, 4, 5])"
   ]
  },
  {
   "cell_type": "code",
   "execution_count": 74,
   "id": "656d183b",
   "metadata": {},
   "outputs": [
    {
     "data": {
      "text/plain": [
       "[11, 12, 13, 14, 15]"
      ]
     },
     "execution_count": 74,
     "metadata": {},
     "output_type": "execute_result"
    }
   ],
   "source": [
    "# map 객체를 리스트로 변환\n",
    "list(map(add_ten, [1, 2, 3, 4, 5]))"
   ]
  },
  {
   "cell_type": "code",
   "execution_count": 75,
   "id": "4d488f4b",
   "metadata": {},
   "outputs": [
    {
     "name": "stdout",
     "output_type": "stream",
     "text": [
      "nums_map = [11, 12, 13, 14, 15]\n"
     ]
    }
   ],
   "source": [
    "# map을 적용하여 컴프리헨션과 동일한 결과를 얻을 수 있음\n",
    "nums_map = list(map(add_ten, range(1, 6)))\n",
    "print(f'{nums_map = }')"
   ]
  },
  {
   "cell_type": "code",
   "execution_count": 76,
   "id": "3eeeeb11",
   "metadata": {},
   "outputs": [
    {
     "name": "stdout",
     "output_type": "stream",
     "text": [
      "nums_math = [1, 3, 5, 7, 9]\n"
     ]
    }
   ],
   "source": [
    "# 수식을 적용한 리스트 컴프리헨션\n",
    "# - 표현식에 수식을 적용할 수 있음 \n",
    "\n",
    "# 1부터 5까지 순차적으로 num에 대입하고,\n",
    "# num에 2를 곱하고 1을 뺀 값을 리스트에 추가\n",
    "nums_math = [num*2-1 for num in range(1, 6)]\n",
    "print(f'{nums_math = }')"
   ]
  },
  {
   "cell_type": "code",
   "execution_count": 77,
   "id": "94f41f2c",
   "metadata": {},
   "outputs": [
    {
     "name": "stdout",
     "output_type": "stream",
     "text": [
      "nums_func = ['Int_1', 'Int_2', 'Int_3', 'Int_4', 'Int_5']\n"
     ]
    }
   ],
   "source": [
    "# 함수를 적용한 리스트 컴프리헨션\n",
    "# - 표현식에 함수를 적용할 수 있음\n",
    "\n",
    "# 입력한 데이터를 믄자열로 변환하고 'Int_' 를 앞앞에 붙이는 함수 정의\n",
    "\n",
    "def addString(x):\n",
    "    return 'Int_'+ str(x)\n",
    "\n",
    "# 1부터 5까지 순차적으로 num에 대입하고,\n",
    "# num을 addString() 함수에 대입한 결과를 리스트에 추가\n",
    "nums_func = [addString(num) for num in range(1, 6)]\n",
    "print(f'{nums_func = }')"
   ]
  },
  {
   "cell_type": "code",
   "execution_count": 78,
   "metadata": {},
   "outputs": [
    {
     "name": "stdout",
     "output_type": "stream",
     "text": [
      "nums_odds = [1, 3, 5]\n"
     ]
    }
   ],
   "source": [
    "# if 조건문을 적용한 리스트 컴프리헨션\n",
    "# - if문만 쓸 때는 for문 오른쪽에, if else문을 쓸 때는 for문 왼쪽에 작성\n",
    "\n",
    "# 1부터 5까지 순차적으로 num에 대입하고,\n",
    "# num이 홀수면 리스트 추가\n",
    "nums_odds = [num for num in range(1, 6) if num % 2 == 1]\n",
    "print(f'{nums_odds = }')"
   ]
  },
  {
   "cell_type": "code",
   "execution_count": 79,
   "id": "7df8f4c5",
   "metadata": {},
   "outputs": [
    {
     "name": "stdout",
     "output_type": "stream",
     "text": [
      "nums_odds_zero = [1, 0, 3, 0, 5]\n"
     ]
    }
   ],
   "source": [
    "# 1부터 5까지 순차적으로 대입하고,\n",
    "# num이 홀수면 리스트에 값 추가하고 아니면 0 추가\n",
    "\n",
    "nums_odds_zero = [num if num % 2 == 1 else 0 for num in range(1, 6)]\n",
    "print(f'{nums_odds_zero = }')"
   ]
  },
  {
   "cell_type": "code",
   "execution_count": 80,
   "id": "cbdf908d",
   "metadata": {},
   "outputs": [
    {
     "name": "stdout",
     "output_type": "stream",
     "text": [
      "nums_odds_less4 = [1, 3]\n"
     ]
    }
   ],
   "source": [
    "# 여러개의 if 조건문을 중첩가능\n",
    "\n",
    "# 1부터 5까지 순차적으로 대입하고,\n",
    "# num이 홀수면서 4보다 작으면 리스트 추가\n",
    "\n",
    "nums_odds_less4 = [num for num in range(1, 6) if num % 2 == 1 if num < 4]\n",
    "print(f'{nums_odds_less4 = }')"
   ]
  },
  {
   "cell_type": "markdown",
   "id": "9ff43c9e",
   "metadata": {},
   "source": [
    "중첩된 리스트 컴프리헨션\n",
    "- 컴프리헨션은 내부에서 for 키워드와 if키워드를 몇번이고 반복할 수 있음"
   ]
  },
  {
   "cell_type": "code",
   "execution_count": 81,
   "id": "564bb9c3",
   "metadata": {},
   "outputs": [
    {
     "name": "stdout",
     "output_type": "stream",
     "text": [
      "nums_pairs = [(1, 'a'), (1, 'b'), (1, 'c'), (2, 'a'), (2, 'b'), (2, 'c')]\n"
     ]
    }
   ],
   "source": [
    "# 1부터 2까지 순차적으로 x에 대입하고,\n",
    "# 1부터 2까지 순차적으로 y에 대입하여 (x, y) 리스트에 추가\n",
    "# 앞의 for문이 먼저 실행되고, 뒤의 for문이 실행됨\n",
    "\n",
    "nums_pairs = [(x, y) for x in range(1, 3) for y in ['a', 'b', 'c']]\n",
    "\n",
    "print(f'{nums_pairs = }')"
   ]
  },
  {
   "cell_type": "code",
   "execution_count": 82,
   "id": "41545b6e",
   "metadata": {},
   "outputs": [
    {
     "name": "stdout",
     "output_type": "stream",
     "text": [
      "num_pairs_sum5 = [(1, 4), (2, 3), (3, 2), (4, 1)]\n"
     ]
    }
   ],
   "source": [
    "# 1부터 5까지 순차적으로 x에 대입하고,\n",
    "# 1부터 5까지 순차적으로 y에 대입하여\n",
    "# x+y가 5면 (x, y)를 리스트에 추가\n",
    "\n",
    "num_pairs_sum5 = [(x, y) for x in range(1, 6) for y in range(1, 6) if x+y == 5]\n",
    "print(f'{num_pairs_sum5 = }')"
   ]
  },
  {
   "cell_type": "markdown",
   "id": "da6d7e4c",
   "metadata": {},
   "source": [
    "# 딕셔너리 컴프리헨션 \n",
    "- 리스트 컴프리헨션과 거의 동일한 방식으로 딕셔너리 컴프리헨션을 사용할 수 있음"
   ]
  },
  {
   "cell_type": "code",
   "execution_count": 83,
   "id": "a7851462",
   "metadata": {},
   "outputs": [
    {
     "name": "stdout",
     "output_type": "stream",
     "text": [
      "students_for = {1: '윤승우', 2: '윤승우', 3: '윤승우', 4: '윤승우'}\n"
     ]
    }
   ],
   "source": [
    "ids = [1, 2, 3, 4]\n",
    "student_names = ['서은빈', '김수빈', '정희성', '윤승우']\n",
    "\n",
    "# 중첩된 for문으로는 정상적으로 딕셔너리를 생성할 수 없음\n",
    "students_for = {id:name for id in ids for name in student_names}\n",
    "print(f'{students_for = }')\n"
   ]
  },
  {
   "cell_type": "code",
   "execution_count": 84,
   "id": "f55da219",
   "metadata": {},
   "outputs": [
    {
     "name": "stdout",
     "output_type": "stream",
     "text": [
      "students_enumerate = {0: '서은빈', 1: '김수빈', 2: '정희성', 3: '윤승우'}\n"
     ]
    }
   ],
   "source": [
    "student_names = ['서은빈', '김수빈', '정희성', '윤승우']\n",
    "\n",
    "# enumerate() 함수로 인덱스와 값을 동시에 가져옴\n",
    "students_enumerate = {id:name for id, name in enumerate(student_names)}\n",
    "print(f'{students_enumerate = }')"
   ]
  },
  {
   "cell_type": "code",
   "execution_count": 85,
   "id": "86fa06ec",
   "metadata": {},
   "outputs": [
    {
     "name": "stdout",
     "output_type": "stream",
     "text": [
      "students_zip = {1: '서은빈', 2: '김수빈', 3: '정희성', 4: '윤승우'}\n"
     ]
    }
   ],
   "source": [
    "ids = [1, 2, 3, 4]\n",
    "student_names = ['서은빈', '김수빈', '정희성', '윤승우']\n",
    "\n",
    "# zip() 함수로 두 리스트를 병렬로 가져옴\n",
    "students_zip = {id:name for id, name in zip(ids, student_names)}\n",
    "print(f'{students_zip = }')"
   ]
  },
  {
   "cell_type": "markdown",
   "id": "dc7fbb21",
   "metadata": {},
   "source": [
    "# set 컴프리헨션\n",
    "- 리스트 컴프리헨션과 거의 동일한 방식으로 set 컴프리헨션을 사용할 수 있음\n",
    "- Set 기호인 {}를 사용하여 Set 컴프리헨션을 작성"
   ]
  },
  {
   "cell_type": "code",
   "execution_count": 86,
   "id": "253687fd",
   "metadata": {},
   "outputs": [
    {
     "name": "stdout",
     "output_type": "stream",
     "text": [
      "sum_list = [2, 3, 4, 5, 6, 3, 4, 5, 6, 7, 4, 5, 6, 7, 8, 5, 6, 7, 8, 9, 6, 7, 8, 9, 10]\n",
      "\n",
      "sum_set = [2, 3, 4, 5, 6, 3, 4, 5, 6, 7, 4, 5, 6, 7, 8, 5, 6, 7, 8, 9, 6, 7, 8, 9, 10]\n"
     ]
    }
   ],
   "source": [
    "# 1부터 5까지 순차적으로 x에 대입하고,\n",
    "# 1부터 5까지 순차적으로 y에 대입하여 x+y에 대한 리스트 생성\n",
    "sum_list = [x+y for x in range(1, 6) for y in range(1, 6)]\n",
    "\n",
    "#리스트 출력, 중복된 값이 있음\n",
    "print(f'{sum_list = }\\n')\n",
    "\n",
    "# 1부터 5까지 순차적으로 x에 대입하고,\n",
    "# 1부터 5까지 순차적으로 y에 대입하여 x+y에 대한 set 생성\n",
    "sum_set = [x+y for x in range(1, 6) for y in range(1, 6)]\n",
    "\n",
    "#set 출력, 중복된 값이 없음음\n",
    "print(f'{sum_set = }')"
   ]
  },
  {
   "cell_type": "markdown",
   "id": "b516f1b5",
   "metadata": {},
   "source": [
    "# tuple 컴프리헨션\n",
    "- 튜플 컴프리헨션은 튜플로 반환되는 것이 아니라 제너레이터로 반환됨"
   ]
  },
  {
   "cell_type": "code",
   "execution_count": 87,
   "id": "667c9338",
   "metadata": {},
   "outputs": [
    {
     "name": "stdout",
     "output_type": "stream",
     "text": [
      "nums_pairs_list = [(1, 'a'), (1, 'b'), (1, 'c'), (2, 'a'), (2, 'b'), (2, 'c')]\n",
      "\n",
      "nums_pairs_tuple = <generator object <genexpr> at 0x0000026B03E61890>\n",
      "tuple(nums_pairs_tuple) = ((1, 'a'), (1, 'b'), (1, 'c'), (2, 'a'), (2, 'b'), (2, 'c'))\n",
      "\n",
      "nums_pairs_tuple2 = ((1, 'a'), (1, 'b'), (1, 'c'), (2, 'a'), (2, 'b'), (2, 'c'))\n"
     ]
    }
   ],
   "source": [
    "# 제너레이터(generator)는 이터레이터를 생성해주는 함수\n",
    "# range() 함수와 같이 매번 다음 값을 생성해주는 함수\n",
    "# 시퀀스 객체를 통째로 메모리에 생성하지 않고, 필요한 시점에 데이터를 생성하므로 메모리를 효율적으로 사용하기 위해 사용\n",
    "\n",
    "# 1부터 2까지 순차적으로 x에 대입하고,\n",
    "# 1부터 2까지 순차적으로 y에 대입하여 (x, y) 리스트에 추가\n",
    "# 앞의 for문이 먼저 실행되고, 뒤의 for문이 실행됨\n",
    "\n",
    "nums_pairs_list = [(x, y) for x in range(1, 3) for y in ['a', 'b', 'c']]\n",
    "\n",
    "# 리스트 출력\n",
    "print(f'{nums_pairs_list = }\\n')\n",
    "\n",
    "# tuple로 컴프리헨션 적용\n",
    "nums_pairs_tuple = ((x, y) for x in range(1, 3) for y in ['a', 'b', 'c'])\n",
    "\n",
    "# 제너레이터 객체가 생성됨\n",
    "print(f'{nums_pairs_tuple = }')\n",
    "\n",
    "# 튜플로 변환\n",
    "print(f'{tuple(nums_pairs_tuple) = }\\n')\n",
    "\n",
    "# 한번에 튜플로 컴프리헨션 적용\n",
    "nums_pairs_tuple2 = tuple((x, y) for x in range(1, 3) for y in ['a', 'b', 'c'])\n",
    "print(f'{nums_pairs_tuple2 = }')\n"
   ]
  },
  {
   "cell_type": "markdown",
   "id": "e361f973",
   "metadata": {},
   "source": [
    "- 응용"
   ]
  },
  {
   "cell_type": "code",
   "execution_count": 88,
   "id": "8f4b529d",
   "metadata": {},
   "outputs": [
    {
     "name": "stdout",
     "output_type": "stream",
     "text": [
      "grade_groups = {'우수': ['윤승우'], '보통': ['임준혁', '한재아'], '미흡': ['박준휘', '이수빈']}\n",
      "\n"
     ]
    }
   ],
   "source": [
    "ids = [1, 2, 3, 4, 5]\n",
    "student_names = ['윤승우', '박준휘', '임준혁', '이수빈', '한재아']\n",
    "students_scores = [95, 70, 85, 60, 75]  # 각 학생의 성적\n",
    "\n",
    "# zip() 함수로 학생 ID와 이름의 딕셔너리 생성\n",
    "students_zip = {id: name for id, name in zip(ids, student_names)}\n",
    "\n",
    "# 성적을 기준\n",
    "grade_groups = {\"우수\": [], \"보통\": [], \"미흡\": []}\n",
    "\n",
    "# 각 학생의 성적에 따라 분류류\n",
    "for id, score in zip(ids, students_scores):\n",
    "    student_name = students_zip[id] \n",
    "    if score >= 90:\n",
    "        grade_groups[\"우수\"].append(student_name)\n",
    "    elif score >= 75:\n",
    "        grade_groups[\"보통\"].append(student_name)\n",
    "    else:\n",
    "        grade_groups[\"미흡\"].append(student_name)\n",
    "\n",
    "print(f'{grade_groups = }\\n')"
   ]
  }
 ],
 "metadata": {
  "kernelspec": {
   "display_name": "Python 3",
   "language": "python",
   "name": "python3"
  },
  "language_info": {
   "codemirror_mode": {
    "name": "ipython",
    "version": 3
   },
   "file_extension": ".py",
   "mimetype": "text/x-python",
   "name": "python",
   "nbconvert_exporter": "python",
   "pygments_lexer": "ipython3",
   "version": "3.9.7"
  }
 },
 "nbformat": 4,
 "nbformat_minor": 5
}
