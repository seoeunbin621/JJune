{
 "cells": [
  {
   "cell_type": "markdown",
   "metadata": {},
   "source": [
    "# 홍익대 경영학 C331296 서은빈"
   ]
  },
  {
   "cell_type": "markdown",
   "metadata": {},
   "source": [
    "# 함수 \n",
    "- 함수(function)는 인수(arguments)를 입력으로 받아 실행문(코드블럭)을 실행하고 출력(return)하는 하나의 실행 모듈\n",
    "\n",
    "> 함수는 def 키워드로 정의하며, 함수명과 매개변수를 괄호()로 묶어서 정의함\n",
    "- 매개변수(parameter)는 함수에 입력으로 전달된 값을 받는 변수\n",
    "- 인수(arguments)는 함수를 호출할 때 전달하는 입력값을 의미\n",
    "> 함수의 실행문은 코드블락으로 작성하여 indent로 구분함\n",
    "> 함수의 실행 결과는 return 키워드로 반환함\n",
    "- 반환값은 하나인 경우는 반환값의 데이터 유형으로, 둘 이상인 경우는 튜플로 반환함\n",
    "- return은 생략 가능하며, 생략할 경우 None을 반환함"
   ]
  },
  {
   "cell_type": "code",
   "execution_count": 1,
   "metadata": {},
   "outputs": [],
   "source": [
    "# 함수명 작성법\n",
    "# - 함수명마능로도 함수의 기능을 유추할 수 있도록 명확하게 표현하는 것이 좋음\n",
    "# 동사+명사 형태로 작성하는 것이 좋음\n",
    "# -과거에는 함수명을 snake_case로 작성했지만 최근엔 camelCase로 작성하는 추세\n",
    "\n",
    "# calcuSumProduct 함수명, a,b는 parameters(매개변수)\n",
    "def calcuSumProduct(a,b=10):\n",
    "\n",
    "    #들여쓰기로 실행문의 코드블록을 지정\n",
    "    plus = a+b\n",
    "    multiple = a*b\n",
    "\n",
    "    #return으로 함수의 결과값을 반환\n",
    "    return plus, multiple"
   ]
  },
  {
   "cell_type": "code",
   "execution_count": 2,
   "metadata": {},
   "outputs": [
    {
     "name": "stdout",
     "output_type": "stream",
     "text": [
      "sum =10, product = 21\n"
     ]
    }
   ],
   "source": [
    "# 함수의 호출\n",
    "\n",
    "# 함수를 호출할 때는 함수명(인수들)으로 호출함\n",
    "# 인수가 정의된 순서대로 값이 전달됨\n",
    "# 인수가 많거나 순서에 관계없이 호출할 경우에는 미개변수= 인수로 지정함\n",
    "# 디폴트값이 설정된 매개변수는 인수를 생략할 수 있고 디폴트값이 적용됨\n",
    "# 함수의 반환값은 변수에 저장하여 활용할 수 있음\n",
    "# 반환값이 여러 개인 경우 튜플로 반환됨\n",
    "\n",
    "# 인자를 순서대로 전달하여 함수 호출\n",
    "sum, product = calcuSumProduct(3, 7)\n",
    "\n",
    "# 함수 결과값 출력\n",
    "print(f'{sum =}, {product = }')"
   ]
  },
  {
   "cell_type": "code",
   "execution_count": 3,
   "metadata": {},
   "outputs": [
    {
     "name": "stdout",
     "output_type": "stream",
     "text": [
      "sum =13, product = 30\n"
     ]
    }
   ],
   "source": [
    "# 인자의 디폴트값을 사용하여 함수 호출\n",
    "sum, product = calcuSumProduct(3)\n",
    "\n",
    "print(f'{sum =}, {product = }')"
   ]
  },
  {
   "cell_type": "code",
   "execution_count": 4,
   "metadata": {},
   "outputs": [
    {
     "name": "stdout",
     "output_type": "stream",
     "text": [
      "sum =10, product = 21\n"
     ]
    }
   ],
   "source": [
    "# 인자의 이름을 지정하여 함수 호출\n",
    "sum, product = calcuSumProduct(b =3, a= 7)\n",
    "\n",
    "print(f'{sum =}, {product = }')"
   ]
  },
  {
   "cell_type": "code",
   "execution_count": 5,
   "metadata": {},
   "outputs": [],
   "source": [
    "# 함수 주석\n",
    "# 함수에 대한 정보 : 함수명 바로 아래에 작은 따옴표 3개 (''' ''') 또는 이중 따옴표 3개(\"\"\" \"\"\")로 감싸서 기술\n",
    "# 함수의 정보를 확인할 때는 help(함수명)으로 확인\n",
    "# 함수의 매개변수에 대한 정보 : 매개변수명 뒤에 콜론(:)을 붙이고 자료형을 기술\n",
    "# 함수의 반환값에 대한 정보 : 함수명 앞에 화살표(->)를 붙이고 자료형을 기술\n",
    "\n",
    "def calcSumProduct(a: int, b: int =10) -> int:\n",
    "\n",
    "    print(f'{a = }, {b = }')\n",
    "    plus = a+b\n",
    "    multiple = a*b\n",
    "    return plus, multiple"
   ]
  },
  {
   "cell_type": "code",
   "execution_count": 6,
   "metadata": {},
   "outputs": [
    {
     "name": "stdout",
     "output_type": "stream",
     "text": [
      "Help on function calcSumProduct in module __main__:\n",
      "\n",
      "calcSumProduct(a: int, b: int = 10) -> int\n",
      "\n"
     ]
    }
   ],
   "source": [
    "# 함수의 정보를 확인할 때는 help(함수명)으로 확인함\n",
    "\n",
    "help(calcSumProduct)"
   ]
  },
  {
   "cell_type": "code",
   "execution_count": 7,
   "metadata": {},
   "outputs": [
    {
     "name": "stdout",
     "output_type": "stream",
     "text": [
      "inputs = (1, 2, 3)\n",
      "sum = 6, product = 6\n",
      "\n",
      "inputs = (1, 2, 3, 4, 5, 6, 7, 8)\n",
      "sum = 36, product = 40320 \n"
     ]
    }
   ],
   "source": [
    "# 인수의 개수가 정해지지 않은 함수\n",
    "# *args : 튜플로 인수를 받음\n",
    "# **kwargs : 딕셔너리로 인수를 받음\n",
    "\n",
    "## *args의 활용\n",
    "\n",
    "# 계산을 위해 numpy 모듈을 np로 import\n",
    "import numpy as np\n",
    "\n",
    "# calcSumProduct2 함수명, inputs는 크기가 정해지지 않은 parameters(매개변수)\n",
    "def calcSumProduct2(*inputs):\n",
    "    \"\"\"calsuSumProduct2 함수는 입력의 합과 곱을 튜플로 반환하는 함수이다.\"\"\"\n",
    "\n",
    "    # f-string을 이용하여 inputs의 값을 출력\n",
    "    print(f'{inputs = }')\n",
    "\n",
    "    # numpy 모듈을 이용하여 inputs의 합과 곱을 계산\n",
    "    plus = np.sum(inputs)\n",
    "    multiple = np.prod(inputs)\n",
    "\n",
    "    # plus와 multiple을 튜플로 반환\n",
    "    return plus, multiple\n",
    "\n",
    "# 인수 1, 2, 3에 대한 함수를 적용하여 결과를 sum, product에 저장\n",
    "sum, product = calcSumProduct2(1,2,3)\n",
    "\n",
    "# sum과 product을 출력\n",
    "print(f'{sum = }, {product = }\\n')\n",
    "\n",
    "# 인수 1,2,3,4,5,6,7,8에 대한 함수를 적용하여 결과를 sum, product에 저장\n",
    "sum, product = calcSumProduct2(1,2,3,4,5,6,7,8)\n",
    "\n",
    "# sum과 product을 출력\n",
    "print(f'{sum = }, {product = } ')"
   ]
  },
  {
   "cell_type": "code",
   "execution_count": 8,
   "metadata": {},
   "outputs": [
    {
     "name": "stdout",
     "output_type": "stream",
     "text": [
      "inputs = {'a': 1, 'b': 2}\n",
      "sum = 3, product = 2\n",
      "\n",
      "inputs = {'a': 1, 'b': 2, 'c': 3, 'd': 4}\n",
      "sum = 10, product = 24\n"
     ]
    }
   ],
   "source": [
    "## **kwargs의 활용\n",
    "\n",
    "import numpy as np\n",
    "\n",
    "# calcSumProduct2 함수명, inputs는 크기가 정해지지 않은 parameters\n",
    "def calcSumProduct2(**inputs):\n",
    "    \"\"\"calcSumProduct2 함수는 입력의 합과 곱을 튜플로 반환하는 함수이다.\"\"\"\n",
    "\n",
    "    # f-string을 이용하여 inputs의 값을 출력\n",
    "    print(f'{inputs = }')\n",
    "\n",
    "    # plus에 0을, multiple에 1을 초기값으로 할당\n",
    "    plus = 0\n",
    "    multiple = 1\n",
    "\n",
    "    # inputs는 이제 딕셔너리이므로 key와 value를 반복하여 value에 할당\n",
    "    for _, value in inputs.items():\n",
    "        # plus에 value를 더하여 plus를 갱신\n",
    "        plus += value\n",
    "        # multiple에 value를 곱하여 multiple을 갱신\n",
    "        multiple *= value\n",
    "\n",
    "    # plus와 multiple을 튜플로 반환\n",
    "    return plus, multiple\n",
    "\n",
    "# 인수 a=1, b=2에 대한 함수를 적용하여 결과를 sum, product에 저장\n",
    "sum, product = calcSumProduct2(a=1, b=2)\n",
    "print(f'{sum = }, {product = }\\n')\n",
    "\n",
    "# 인수 a=1, b=2, c=3, d=4에 대한 함수를 적용하여 결과를 sum, product에 저장\n",
    "sum, product = calcSumProduct2(a=1, b=2, c=3, d=4)\n",
    "print(f'{sum = }, {product = }')\n"
   ]
  },
  {
   "cell_type": "code",
   "execution_count": 9,
   "metadata": {},
   "outputs": [],
   "source": [
    "# 지역변수와 전역변수\n",
    "## 지역변수(local variable): 함수 내에서 선언된 변수\n",
    "### 함수 실행 시 생성되고 함수 종료 시 소멸됨 > 메모리 관리에 효율적임\n",
    "\n",
    "## 전역변수(global variable): 함수 외부에서 선언된 변수\n",
    "### 함수 외부에서 선언되어 프로그램이 종료될 때까지 유지됨> 메모리 관리에 비효율적임\n",
    "### 전역변수를 함수 내에서 선언하려면 global 전역변수명으로 선언해야 함"
   ]
  },
  {
   "cell_type": "code",
   "execution_count": 10,
   "metadata": {},
   "outputs": [
    {
     "name": "stdout",
     "output_type": "stream",
     "text": [
      "var_global = '전역 변수'\n",
      "var_local = '인자는 지역 변수'\n",
      "var_global = '전역 변수'\n",
      "var_global = '전역 변수'\n"
     ]
    }
   ],
   "source": [
    "# 함수 내에서 전역변수의 사용\n",
    "## 전역변수를 그냥 사용하면 됨\n",
    "\n",
    "var_global = '전역 변수'\n",
    "\n",
    "# useGlobalVariable 함수명, var_local은 매개변수(지역 변수)\n",
    "def useGlobalVariable(var_local):\n",
    "    \n",
    "    # 전역변수와 지역변수를 출력\n",
    "    print(f'{var_global = }')\n",
    "    print(f'{var_local = }')\n",
    "\n",
    "# useGlobalVariable 함수 호출, '인자는 지역 변수'는 인자\n",
    "useGlobalVariable('인자는 지역 변수')\n",
    "\n",
    "# 전역변수를 출력 -> 값이 변하지 않음\n",
    "print(f'{var_global = }')\n",
    "\n",
    "# 지역변수를 출력 -> 함수 내에서만 사용되는 변수로서 함수 외부에서는 사용 불가\n",
    "try:\n",
    "    print(f'{var_global = }')\n",
    "except NameError as e:\n",
    "    print(e)"
   ]
  },
  {
   "cell_type": "code",
   "execution_count": 11,
   "metadata": {},
   "outputs": [
    {
     "name": "stdout",
     "output_type": "stream",
     "text": [
      "var_global = '전역 변수가 아닌 지역변수임'\n",
      "var_local = '인자는 지역 변수'\n",
      "var_global = '전역 변수'\n"
     ]
    }
   ],
   "source": [
    "# 함수 내에서 전역변수의 변경경\n",
    "# 함수 내에서 전역변수의 변경은 안 됨. 전역변수가 아닌 지역변수로 생성됨\n",
    "\n",
    "var_global = '전역 변수'\n",
    "\n",
    "def useGlobalVariable(var_local):\n",
    "    \n",
    "    # var_global을 변경하면, 전역변수가 아닌 지역변수로 생성하여 사용됨\n",
    "    # 즉. 변수명은 동일하나 서로 다른 변수임임\n",
    "    #\n",
    "    var_global = '전역 변수가 아닌 지역변수임'\n",
    "    print(f'{var_global = }')\n",
    "    print(f'{var_local = }')\n",
    "\n",
    "# useGlobalVariable 함수 호출, '인자는 지역 변수'는 인자\n",
    "useGlobalVariable('인자는 지역 변수')\n",
    "\n",
    "# 전역변수를 출력 -> 값이 변하지 않음\n",
    "print(f'{var_global = }')\n"
   ]
  },
  {
   "cell_type": "code",
   "execution_count": 12,
   "metadata": {},
   "outputs": [
    {
     "name": "stdout",
     "output_type": "stream",
     "text": [
      "var_global = '전역 변수'\n",
      "var_local = '인자는 지역 변수'\n",
      "var_global = '이제는 전역 변수임'\n"
     ]
    }
   ],
   "source": [
    "# 함수 내에서 전역변수를 변경하는 방법\n",
    "## global 전역변수명으로 선언해야 함\n",
    "\n",
    "var_global = '전역 변수'\n",
    "\n",
    "def useGlobalVariable(var_local):\n",
    "    # var_global이 전역변수임을 명시\n",
    "    global var_global\n",
    "\n",
    "    #전역변수와 지역변수를 출력\n",
    "    print(f'{var_global = }')\n",
    "    print(f'{var_local = }')\n",
    "\n",
    "    #var_global은 이제 전역변수이므로 전역변수의 값이 변경됨\n",
    "    var_global = '이제는 전역 변수임'\n",
    "\n",
    "# useGlobalVAriable 함수 호출, '인자는 지역 변수'는 인자\n",
    "useGlobalVariable('인자는 지역 변수')\n",
    "\n",
    "# 전역변수를 출력 -> 값이 변경됨\n",
    "print(f'{var_global = }')\n"
   ]
  },
  {
   "cell_type": "code",
   "execution_count": 13,
   "metadata": {},
   "outputs": [],
   "source": [
    "# 람다함수\n",
    "\n",
    "## 람다함수는 일반 함수를 가볍게 만들어 사용하기 위한 함수\n",
    "## 람다함수(lamds function) = 람다표현식(lamda expression) = 익명함수(anonymous function)"
   ]
  },
  {
   "cell_type": "code",
   "execution_count": 14,
   "metadata": {},
   "outputs": [
    {
     "data": {
      "text/plain": [
       "15"
      ]
     },
     "execution_count": 14,
     "metadata": {},
     "output_type": "execute_result"
    }
   ],
   "source": [
    "# x를 매개변수로 하여 10을 더하는 함수\n",
    "\n",
    "def addTen(x):\n",
    "    return x+10\n",
    "\n",
    "#일반 함수\n",
    "addTen(5)"
   ]
  },
  {
   "cell_type": "code",
   "execution_count": 15,
   "metadata": {},
   "outputs": [
    {
     "data": {
      "text/plain": [
       "<function __main__.<lambda>(x)>"
      ]
     },
     "execution_count": 15,
     "metadata": {},
     "output_type": "execute_result"
    }
   ],
   "source": [
    "# 함수명 없는 람다함수\n",
    "\n",
    "# X를 매개변수로 하여 10을 더하는 함수를 lambda로 정의\n",
    "lambda x : x+10"
   ]
  },
  {
   "cell_type": "code",
   "execution_count": 16,
   "metadata": {},
   "outputs": [
    {
     "data": {
      "text/plain": [
       "15"
      ]
     },
     "execution_count": 16,
     "metadata": {},
     "output_type": "execute_result"
    }
   ],
   "source": [
    "# lambda 함수 호출 -> 함수명이 없으므로 함수를 호출할 수 없어 정의하여 바로 호출\n",
    "(lambda x : x+10)(5)"
   ]
  },
  {
   "cell_type": "code",
   "execution_count": 17,
   "metadata": {},
   "outputs": [
    {
     "data": {
      "text/plain": [
       "15"
      ]
     },
     "execution_count": 17,
     "metadata": {},
     "output_type": "execute_result"
    }
   ],
   "source": [
    "# 함수명이 있는 람다함수\n",
    "\n",
    "## x를 입력받아 x+10을 반환하는 람다함수를 addTen으로 명명\n",
    "addTen = lambda x : x+10\n",
    "\n",
    "# addTen 함수 호출\n",
    "addTen(5)"
   ]
  },
  {
   "cell_type": "code",
   "execution_count": 18,
   "metadata": {},
   "outputs": [
    {
     "data": {
      "text/plain": [
       "115"
      ]
     },
     "execution_count": 18,
     "metadata": {},
     "output_type": "execute_result"
    }
   ],
   "source": [
    "# 람다함수 응용\n",
    "## 람다함수 내부에서는 새로운 변수를 생성할 수 없으나 외부 변수는 사용가능\n",
    "\n",
    "# 외부변수\n",
    "y = 100\n",
    "\n",
    "# 외부변수를 참조하는 람다함수\n",
    "(lambda x : x+y+10)(5)"
   ]
  },
  {
   "cell_type": "code",
   "execution_count": 19,
   "metadata": {},
   "outputs": [
    {
     "data": {
      "text/plain": [
       "'(3의 배수)9'"
      ]
     },
     "execution_count": 19,
     "metadata": {},
     "output_type": "execute_result"
    }
   ],
   "source": [
    "# 람다함수에 조건부 표현식 사용\n",
    "\n",
    "## x가 3의 배수이면 '(3의 배수)' + str(x)를 반환하고, 아니면 x를 반환하는 람다함수\n",
    "(lambda x : '(3의 배수)' +str(x) if x%3==0 else x)(9)"
   ]
  },
  {
   "cell_type": "code",
   "execution_count": 20,
   "metadata": {},
   "outputs": [
    {
     "data": {
      "text/plain": [
       "8"
      ]
     },
     "execution_count": 20,
     "metadata": {},
     "output_type": "execute_result"
    }
   ],
   "source": [
    "(lambda x : '(3의 배수)' +str(x) if x%3==0 else x)(8)"
   ]
  },
  {
   "cell_type": "code",
   "execution_count": 21,
   "metadata": {},
   "outputs": [
    {
     "data": {
      "text/plain": [
       "'(3의 배수)9'"
      ]
     },
     "execution_count": 21,
     "metadata": {},
     "output_type": "execute_result"
    }
   ],
   "source": [
    "(lambda x : '(3의 배수)' +str(x) if x%3==0 else float(x) if x%3==1 else x)(9)\n"
   ]
  },
  {
   "cell_type": "code",
   "execution_count": 22,
   "metadata": {},
   "outputs": [
    {
     "data": {
      "text/plain": [
       "7.0"
      ]
     },
     "execution_count": 22,
     "metadata": {},
     "output_type": "execute_result"
    }
   ],
   "source": [
    "(lambda x : '(3의 배수)' +str(x) if x%3==0 else float(x) if x%3==1 else x)(7)\n"
   ]
  },
  {
   "cell_type": "code",
   "execution_count": 23,
   "metadata": {},
   "outputs": [
    {
     "data": {
      "text/plain": [
       "5"
      ]
     },
     "execution_count": 23,
     "metadata": {},
     "output_type": "execute_result"
    }
   ],
   "source": [
    "(lambda x : '(3의 배수)' +str(x) if x%3==0 else float(x) if x%3==1 else x)(5)"
   ]
  },
  {
   "cell_type": "code",
   "execution_count": 24,
   "metadata": {},
   "outputs": [
    {
     "data": {
      "text/plain": [
       "3"
      ]
     },
     "execution_count": 24,
     "metadata": {},
     "output_type": "execute_result"
    }
   ],
   "source": [
    "# 람다함수에 인자 여러개 넣기\n",
    "\n",
    "## x가 3의 배수면 x를, 아니면 x+y를 반환하는 람다함수\n",
    "(lambda x,y: x if x%3==0 else x+y)(3, 4)"
   ]
  },
  {
   "cell_type": "code",
   "execution_count": 25,
   "metadata": {},
   "outputs": [
    {
     "data": {
      "text/plain": [
       "6"
      ]
     },
     "execution_count": 25,
     "metadata": {},
     "output_type": "execute_result"
    }
   ],
   "source": [
    "(lambda x,y: x if x%3==0 else x+y)(2, 4)"
   ]
  },
  {
   "cell_type": "code",
   "execution_count": 26,
   "metadata": {},
   "outputs": [
    {
     "data": {
      "text/plain": [
       "[11, 12, 13]"
      ]
     },
     "execution_count": 26,
     "metadata": {},
     "output_type": "execute_result"
    }
   ],
   "source": [
    "# 람다함수의 활용\n",
    "## 람다함수는 짧은 코드로 함수를 정의하여 사용하기 때문에 간단한 함수를 정의하여 다른 함수의 인수로 사용할 때 유용함\n",
    "\n",
    "# map 함수에 적용\n",
    "## map 함수는 iterable 객체의 원소를 지정된 함수로 처리해주는 함수\n",
    "\n",
    "list(map(lambda x: x+10, [1, 2, 3]))"
   ]
  },
  {
   "cell_type": "code",
   "execution_count": 27,
   "metadata": {},
   "outputs": [
    {
     "name": "stdout",
     "output_type": "stream",
     "text": [
      "[11, 12, 13]\n"
     ]
    }
   ],
   "source": [
    "nums = [1, 2, 3]\n",
    "addTen = lambda x: x+10\n",
    "print(list(map(addTen, nums)))"
   ]
  },
  {
   "cell_type": "code",
   "execution_count": 28,
   "metadata": {},
   "outputs": [
    {
     "name": "stdout",
     "output_type": "stream",
     "text": [
      "(11, 12, 13)\n"
     ]
    }
   ],
   "source": [
    "nums = [1, 2, 3]\n",
    "addTen = lambda x: x+10\n",
    "print(tuple(map(addTen, nums)))"
   ]
  },
  {
   "cell_type": "code",
   "execution_count": 29,
   "metadata": {},
   "outputs": [
    {
     "name": "stdout",
     "output_type": "stream",
     "text": [
      "(11, 12, 13)\n"
     ]
    }
   ],
   "source": [
    "nums = [1, 2, 3]\n",
    "print(tuple(map(lambda x: x+10, nums)))"
   ]
  },
  {
   "cell_type": "code",
   "execution_count": 30,
   "metadata": {},
   "outputs": [
    {
     "name": "stdout",
     "output_type": "stream",
     "text": [
      "(True, False, True)\n"
     ]
    }
   ],
   "source": [
    "nums = [1, 2, 3]\n",
    "isOdds = lambda x: x%2==1\n",
    "print(tuple(map(isOdds, nums)))"
   ]
  },
  {
   "cell_type": "code",
   "execution_count": 31,
   "metadata": {},
   "outputs": [
    {
     "name": "stdout",
     "output_type": "stream",
     "text": [
      "[1, 3]\n"
     ]
    }
   ],
   "source": [
    "nums = [1, 2, 3]\n",
    "isOdds = lambda x: x%2==1\n",
    "print(list(filter(isOdds, nums)))"
   ]
  },
  {
   "cell_type": "code",
   "execution_count": 32,
   "metadata": {},
   "outputs": [
    {
     "name": "stdout",
     "output_type": "stream",
     "text": [
      "(1, 3)\n"
     ]
    }
   ],
   "source": [
    "nums = [1, 2, 3]\n",
    "isOdds = lambda x: x%2==1\n",
    "print(tuple(filter(isOdds, nums)))"
   ]
  },
  {
   "cell_type": "code",
   "execution_count": 33,
   "metadata": {},
   "outputs": [
    {
     "name": "stdout",
     "output_type": "stream",
     "text": [
      "[1, 3]\n"
     ]
    }
   ],
   "source": [
    "nums = [1, 2, 3]\n",
    "print(list(filter(lambda x: x%2==1, nums)))"
   ]
  },
  {
   "cell_type": "code",
   "execution_count": 34,
   "metadata": {},
   "outputs": [],
   "source": [
    "# 로지컬 에러 주의\n",
    "# syntax면 상관 없음"
   ]
  },
  {
   "cell_type": "code",
   "execution_count": 35,
   "metadata": {},
   "outputs": [
    {
     "name": "stdout",
     "output_type": "stream",
     "text": [
      "n 1\n",
      "n 2\n",
      "n 3\n",
      "n 4\n",
      "n 5\n"
     ]
    }
   ],
   "source": [
    "# 종료 조건을 위한 변수 설정\n",
    "n = 0\n",
    "while n < 5:\n",
    "    n = n+1\n",
    "    print(\"n\", n)"
   ]
  },
  {
   "cell_type": "code",
   "execution_count": 36,
   "metadata": {},
   "outputs": [
    {
     "name": "stdout",
     "output_type": "stream",
     "text": [
      "n 0\n",
      "n 1\n",
      "n 2\n",
      "n 3\n",
      "n 4\n"
     ]
    }
   ],
   "source": [
    "# 종료 조건을 위한 변수 설정\n",
    "n = 0\n",
    "while n < 5:\n",
    "    print(\"n\", n)\n",
    "    n = n+1\n",
    "    #조금만 달라져도 답이 달라짐\n",
    "    "
   ]
  },
  {
   "cell_type": "code",
   "execution_count": 37,
   "metadata": {},
   "outputs": [
    {
     "name": "stdout",
     "output_type": "stream",
     "text": [
      "n 0\n",
      "n 1\n",
      "n 2\n",
      "n 3\n",
      "n 4\n",
      "n 5\n"
     ]
    }
   ],
   "source": [
    "for n in range(0,6):\n",
    "    print(\"n\", n)\n",
    "\n",
    "#유한함!"
   ]
  },
  {
   "cell_type": "code",
   "execution_count": 38,
   "metadata": {},
   "outputs": [
    {
     "name": "stdout",
     "output_type": "stream",
     "text": [
      "item = 1\n",
      "item = 2\n",
      "item = 3\n",
      "item = 4\n",
      "item = 5\n"
     ]
    }
   ],
   "source": [
    "x_list = [1, 2, 3, 4, 5]\n",
    "\n",
    "for item in x_list:\n",
    "    print(f'{item = }')"
   ]
  },
  {
   "cell_type": "code",
   "execution_count": 39,
   "metadata": {},
   "outputs": [],
   "source": [
    "(b, c, d) = (1, 2, 3)\n",
    "#원소를 받을 때는 개수 정확하게 지킬것\n",
    "#괄호 풀어도 됨\n",
    "#한쪽만 풀어도 됨\n",
    "#튜플"
   ]
  },
  {
   "cell_type": "code",
   "execution_count": 40,
   "metadata": {},
   "outputs": [
    {
     "data": {
      "text/plain": [
       "1"
      ]
     },
     "execution_count": 40,
     "metadata": {},
     "output_type": "execute_result"
    }
   ],
   "source": [
    "b"
   ]
  },
  {
   "cell_type": "code",
   "execution_count": 41,
   "metadata": {},
   "outputs": [
    {
     "data": {
      "text/plain": [
       "3"
      ]
     },
     "execution_count": 41,
     "metadata": {},
     "output_type": "execute_result"
    }
   ],
   "source": [
    "d"
   ]
  },
  {
   "cell_type": "code",
   "execution_count": 42,
   "metadata": {},
   "outputs": [
    {
     "data": {
      "text/plain": [
       "2"
      ]
     },
     "execution_count": 42,
     "metadata": {},
     "output_type": "execute_result"
    }
   ],
   "source": [
    "c"
   ]
  },
  {
   "cell_type": "code",
   "execution_count": 43,
   "metadata": {},
   "outputs": [],
   "source": [
    "b, c = [1, 2]"
   ]
  },
  {
   "cell_type": "code",
   "execution_count": 44,
   "metadata": {},
   "outputs": [
    {
     "data": {
      "text/plain": [
       "1"
      ]
     },
     "execution_count": 44,
     "metadata": {},
     "output_type": "execute_result"
    }
   ],
   "source": [
    "b"
   ]
  },
  {
   "cell_type": "code",
   "execution_count": 45,
   "metadata": {},
   "outputs": [
    {
     "name": "stdout",
     "output_type": "stream",
     "text": [
      "item=(0, 'a')\n",
      "item=(1, 'b')\n",
      "item=(2, 'c')\n",
      "item=(3, 'd')\n",
      "item=(4, 'e')\n"
     ]
    }
   ],
   "source": [
    "#enumerate 함수를 이용한 for문\n",
    "\n",
    "for item in enumerate(['a', 'b', 'c', 'd', 'e']):\n",
    "    print(f'{item=}')"
   ]
  },
  {
   "cell_type": "markdown",
   "metadata": {},
   "source": [
    "-응용"
   ]
  },
  {
   "cell_type": "code",
   "execution_count": 46,
   "metadata": {},
   "outputs": [
    {
     "name": "stdout",
     "output_type": "stream",
     "text": [
      "2*2= 4   4*2= 8   6*2=12   8*2=16   10*2=20   12*2=24   14*2=28   16*2=32   18*2=36   20*2=40   \n",
      "2*4= 8   4*4=16   6*4=24   8*4=32   10*4=40   12*4=48   14*4=56   16*4=64   18*4=72   20*4=80   \n",
      "2*6=12   4*6=24   6*6=36   8*6=48   10*6=60   12*6=72   14*6=84   16*6=96   18*6=108   20*6=120   \n",
      "2*8=16   4*8=32   6*8=48   8*8=64   10*8=80   12*8=96   14*8=112   16*8=128   18*8=144   20*8=160   \n",
      "2*10=20   4*10=40   6*10=60   8*10=80   10*10=100   12*10=120   14*10=140   16*10=160   18*10=180   20*10=200   \n",
      "2*12=24   4*12=48   6*12=72   8*12=96   10*12=120   12*12=144   14*12=168   16*12=192   18*12=216   20*12=240   \n",
      "2*14=28   4*14=56   6*14=84   8*14=112   10*14=140   12*14=168   14*14=196   16*14=224   18*14=252   20*14=280   \n",
      "2*16=32   4*16=64   6*16=96   8*16=128   10*16=160   12*16=192   14*16=224   16*16=256   18*16=288   20*16=320   \n",
      "2*18=36   4*18=72   6*18=108   8*18=144   10*18=180   12*18=216   14*18=252   16*18=288   18*18=324   20*18=360   \n",
      "2*20=40   4*20=80   6*20=120   8*20=160   10*20=200   12*20=240   14*20=280   16*20=320   18*20=360   20*20=400   \n"
     ]
    }
   ],
   "source": [
    "#2, 4, 6, 8... 20까지 짝수로\n",
    "#2부터 20까지\n",
    "\n",
    "for i in range(2, 21, 2):\n",
    "      for j in range(2, 21, 2):\n",
    "        print(f'{j}*{i}={j*i:>2d}', end='   ')\n",
    "        if j == 20:\n",
    "            print()"
   ]
  },
  {
   "cell_type": "code",
   "execution_count": 47,
   "metadata": {},
   "outputs": [
    {
     "name": "stdout",
     "output_type": "stream",
     "text": [
      "20*20=400   18*20=360   16*20=320   14*20=280   12*20=240   10*20=200   8*20=160   6*20=120   4*20= 80   2*20= 40   \n",
      "20*18=360   18*18=324   16*18=288   14*18=252   12*18=216   10*18=180   8*18=144   6*18=108   4*18= 72   2*18= 36   \n",
      "20*16=320   18*16=288   16*16=256   14*16=224   12*16=192   10*16=160   8*16=128   6*16= 96   4*16= 64   2*16= 32   \n",
      "20*14=280   18*14=252   16*14=224   14*14=196   12*14=168   10*14=140   8*14=112   6*14= 84   4*14= 56   2*14= 28   \n",
      "20*12=240   18*12=216   16*12=192   14*12=168   12*12=144   10*12=120   8*12= 96   6*12= 72   4*12= 48   2*12= 24   \n",
      "20*10=200   18*10=180   16*10=160   14*10=140   12*10=120   10*10=100   8*10= 80   6*10= 60   4*10= 40   2*10= 20   \n",
      "20*8=160   18*8=144   16*8=128   14*8=112   12*8= 96   10*8= 80   8*8= 64   6*8= 48   4*8= 32   2*8= 16   \n",
      "20*6=120   18*6=108   16*6= 96   14*6= 84   12*6= 72   10*6= 60   8*6= 48   6*6= 36   4*6= 24   2*6= 12   \n",
      "20*4= 80   18*4= 72   16*4= 64   14*4= 56   12*4= 48   10*4= 40   8*4= 32   6*4= 24   4*4= 16   2*4=  8   \n",
      "20*2= 40   18*2= 36   16*2= 32   14*2= 28   12*2= 24   10*2= 20   8*2= 16   6*2= 12   4*2=  8   2*2=  4   \n"
     ]
    }
   ],
   "source": [
    "\n",
    "for i in range(20, 1, -2):\n",
    "      for j in range(20, 1, -2):\n",
    "        print(f'{j}*{i}={j*i:>3d}', end='   ')\n",
    "        if j == 2:\n",
    "            print()"
   ]
  }
 ],
 "metadata": {
  "kernelspec": {
   "display_name": "Python 3",
   "language": "python",
   "name": "python3"
  },
  "language_info": {
   "codemirror_mode": {
    "name": "ipython",
    "version": 3
   },
   "file_extension": ".py",
   "mimetype": "text/x-python",
   "name": "python",
   "nbconvert_exporter": "python",
   "pygments_lexer": "ipython3",
   "version": "3.9.7"
  }
 },
 "nbformat": 4,
 "nbformat_minor": 2
}
